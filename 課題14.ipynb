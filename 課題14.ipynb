{
  "nbformat": 4,
  "nbformat_minor": 0,
  "metadata": {
    "colab": {
      "provenance": [],
      "authorship_tag": "ABX9TyMpxuYtQaDObG5/2dtVWPgW",
      "include_colab_link": true
    },
    "kernelspec": {
      "name": "python3",
      "display_name": "Python 3"
    },
    "language_info": {
      "name": "python"
    }
  },
  "cells": [
    {
      "cell_type": "markdown",
      "metadata": {
        "id": "view-in-github",
        "colab_type": "text"
      },
      "source": [
        "<a href=\"https://colab.research.google.com/github/sosuke-p/kadai_014/blob/main/%E8%AA%B2%E9%A1%8C14.ipynb\" target=\"_parent\"><img src=\"https://colab.research.google.com/assets/colab-badge.svg\" alt=\"Open In Colab\"/></a>"
      ]
    },
    {
      "cell_type": "code",
      "execution_count": 67,
      "metadata": {
        "colab": {
          "base_uri": "https://localhost:8080/"
        },
        "id": "1SvifZvH-imu",
        "outputId": "a93875e9-029d-4076-912a-abff5b1ad40c"
      },
      "outputs": [
        {
          "output_type": "stream",
          "name": "stdout",
          "text": [
            "330.0\n"
          ]
        }
      ],
      "source": [
        "\n",
        "def total(price1 , price2):\n",
        "    tax = 1.1\n",
        "    total =  price1 + price2\n",
        "    print(f\"{total * tax}\")\n",
        "\n",
        "total(100,200)\n",
        "\n"
      ]
    }
  ]
}